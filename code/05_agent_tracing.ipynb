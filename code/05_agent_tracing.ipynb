{
 "cells": [
  {
   "cell_type": "markdown",
   "id": "23879705",
   "metadata": {},
   "source": [
    "# Agent Tracing - Learning Objectives\n",
    "\n",
    "This notebook demonstrates how to implement and use tracing capabilities in AI agent applications. By the end of this notebook, you will learn:\n",
    "\n",
    "1. **How to enable tracing for agent runs** - Setting up basic and advanced tracing configurations\n",
    "2. **How to customize trace metadata** - Adding contextual information to your traces\n",
    "3. **How to maintain trace continuity across multiple agent runs** - Using the same trace ID for related queries\n",
    "4. **How to visualize agent execution flows** - Creating visual representations of agent behavior\n",
    "\n",
    "## Why Use Tracing?\n",
    "\n",
    "Tracing provides several important benefits for AI agent development and operation:\n",
    "\n",
    "- **Debugging and Troubleshooting**: Trace the execution path of agents to identify issues in complex workflows\n",
    "- **Performance Monitoring**: Track latency, token usage, and other metrics to optimize agent performance\n",
    "- **Transparency**: Gain visibility into how agents make decisions and use tools\n",
    "- **Auditability**: Create records of agent activities for compliance and governance purposes\n",
    "- **User Experience Improvement**: Analyze patterns in agent behavior to improve prompts and tool designs\n",
    "\n",
    "This notebook shows both simple tracing setups and more advanced configurations with custom metadata and visualization."
   ]
  },
  {
   "cell_type": "code",
   "execution_count": null,
   "id": "863b46e3",
   "metadata": {},
   "outputs": [],
   "source": [
    "# https://mlflow.org/docs/latest/tracing/integrations/openai-agent\n",
    "# https://openai.github.io/openai-agents-python/tracing/"
   ]
  },
  {
   "cell_type": "code",
   "execution_count": 1,
   "id": "9bb277cf",
   "metadata": {},
   "outputs": [
    {
     "data": {
      "text/plain": [
       "True"
      ]
     },
     "execution_count": 1,
     "metadata": {},
     "output_type": "execute_result"
    }
   ],
   "source": [
    "from dotenv import load_dotenv\n",
    "from agents import (\n",
    "\n",
    "    Agent,\n",
    "    Runner,\n",
    "    RunConfig,\n",
    "    trace,\n",
    ")\n",
    "\n",
    "\n",
    "load_dotenv()"
   ]
  },
  {
   "cell_type": "code",
   "execution_count": 2,
   "id": "fc9cfd42",
   "metadata": {},
   "outputs": [],
   "source": [
    "from helpers.model_client import (\n",
    "    get_openai_client,\n",
    "    get_github_model_provider,\n",
    ")\n",
    "\n",
    "client = get_openai_client()\n",
    "GITHUB_MODEL_PROVIDER = get_github_model_provider(client, \"gpt-4o-mini\")\n"
   ]
  },
  {
   "cell_type": "code",
   "execution_count": null,
   "id": "d7987428",
   "metadata": {},
   "outputs": [],
   "source": [
    "from helpers.tool_functions import(\n",
    "    get_current_time,\n",
    "    get_weather,\n",
    ")\n",
    "\n",
    "agent = Agent(\n",
    "    name=\"Assistant\",\n",
    "    instructions=\"Answer the user's questions.\",\n",
    "    tools=[get_weather, get_current_time],\n",
    "\n",
    ")"
   ]
  },
  {
   "cell_type": "code",
   "execution_count": 4,
   "id": "d3586aa7",
   "metadata": {},
   "outputs": [
    {
     "name": "stdout",
     "output_type": "stream",
     "text": [
      "[debug-server] get_current_weather(New York)\n",
      "[debug] get_current_time called with location: New York\n",
      "### Weather in New York:\n",
      "- **Condition:** Overcast\n",
      "- **Temperature:** 6 °C\n",
      "- **Wind:** 4 km/h\n",
      "- **Precipitation:** 0.0 mm\n",
      "\n",
      "### Current Time in New York:\n",
      "- **Time:** 07:12 PM\n"
     ]
    }
   ],
   "source": [
    "# https://github.com/openai/openai-agents-python/blob/main/examples/model_providers/custom_example_provider.py\n",
    "\n",
    "\n",
    "try:\n",
    "    with trace(workflow_name=\"msdiagentic_hello_tracking\"):\n",
    "        result = await Runner.run(\n",
    "            agent,\n",
    "            \"What is the weather in New York? And what is the time?\",\n",
    "            run_config=RunConfig(model_provider=GITHUB_MODEL_PROVIDER),\n",
    "\n",
    "        )\n",
    "        print(result.final_output)\n",
    "except Exception as e:\n",
    "    print(f\"[error] {e}\")\n"
   ]
  },
  {
   "cell_type": "code",
   "execution_count": 5,
   "id": "cce73a45",
   "metadata": {},
   "outputs": [
    {
     "name": "stdout",
     "output_type": "stream",
     "text": [
      "Trace workflow name: agent_tracing_workflow_20250406_191300\n",
      "Trace ID: trace_e3487f8519694093a2658bc6323fe704\n"
     ]
    }
   ],
   "source": [
    "from datetime import datetime\n",
    "\n",
    "\n",
    "timestamp = datetime.now().strftime(\"%Y%m%d_%H%M%S\")\n",
    "tr = trace(\n",
    "    workflow_name=f\"agent_tracing_workflow_{timestamp}\",\n",
    "    group_id=\"mdsi\",\n",
    "    metadata={\n",
    "        \"key1\": \"value1\",\n",
    "        \"key2\": \"value2\",\n",
    "    },\n",
    ")\n",
    "\n",
    "# print trace workflow name\n",
    "print(f\"Trace workflow name: {tr.name}\")\n",
    "tr.start()\n",
    "\n",
    "trace_id = tr.trace_id\n",
    "print(f\"Trace ID: {trace_id}\")\n",
    "\n",
    "run_config = RunConfig(\n",
    "    model_provider=GITHUB_MODEL_PROVIDER,\n",
    "    trace_id=trace_id,  # Pass the trace ID to the run config\n",
    "    trace_metadata={\"AgentName\": \"Weather and Time Agent\"},\n",
    "    workflow_name=tr.name,  # Pass the workflow name to the run config\n",
    "    group_id=tr.group_id,  # Pass the group ID to the run config\n",
    ")\n"
   ]
  },
  {
   "cell_type": "code",
   "execution_count": 6,
   "id": "812737e9",
   "metadata": {},
   "outputs": [
    {
     "name": "stdout",
     "output_type": "stream",
     "text": [
      "[debug-server] get_current_weather(New York)\n",
      "[debug] get_current_time called with location: New York\n",
      "The current weather in New York is overcast with a temperature of about 6°C. The wind is blowing at 4 km/h, with no precipitation reported.\n",
      "\n",
      "The current time in New York is 7:13 PM.\n"
     ]
    }
   ],
   "source": [
    "try:\n",
    "    result = await Runner.run(\n",
    "            agent,\n",
    "            \"What is the weather in New York? And time.\",\n",
    "            run_config=run_config,\n",
    "        )\n",
    "\n",
    "    print(result.final_output)\n",
    "except Exception as e:\n",
    "    print(f\"[error] {e}\")"
   ]
  },
  {
   "cell_type": "code",
   "execution_count": 7,
   "id": "a427c299",
   "metadata": {},
   "outputs": [
    {
     "name": "stdout",
     "output_type": "stream",
     "text": [
      "[debug] get_current_time called with location: Sydney\n",
      "The current time in Sydney is 07:13 PM.\n"
     ]
    }
   ],
   "source": [
    "try:\n",
    "    result = await Runner.run(\n",
    "            agent,\n",
    "            \"What is the time in Sydney\",\n",
    "            run_config=run_config,\n",
    "        )\n",
    "\n",
    "    print(result.final_output)\n",
    "except Exception as e:\n",
    "    print(f\"[error] {e}\")"
   ]
  },
  {
   "cell_type": "code",
   "execution_count": 8,
   "id": "1368918a",
   "metadata": {},
   "outputs": [
    {
     "name": "stdout",
     "output_type": "stream",
     "text": [
      "Why did the scarecrow win an award?\n",
      "\n",
      "Because he was outstanding in his field!\n"
     ]
    }
   ],
   "source": [
    "try:\n",
    "    result = await Runner.run(\n",
    "            agent,\n",
    "            \"Tell me a joke!\",\n",
    "            run_config=run_config,\n",
    "        )\n",
    "\n",
    "    print(result.final_output)\n",
    "except Exception as e:\n",
    "    print(f\"[error] {e}\")"
   ]
  },
  {
   "cell_type": "code",
   "execution_count": 9,
   "id": "ebcf5e40",
   "metadata": {},
   "outputs": [],
   "source": [
    "tr.finish()"
   ]
  },
  {
   "cell_type": "code",
   "execution_count": 10,
   "id": "a4339e93",
   "metadata": {},
   "outputs": [
    {
     "name": "stdout",
     "output_type": "stream",
     "text": [
      "Tracing URL: https://platform.openai.com/traces/trace?trace_id=trace_e3487f8519694093a2658bc6323fe704\n"
     ]
    }
   ],
   "source": [
    "tracing_url = f\"https://platform.openai.com/traces/trace?trace_id={trace_id}\"\n",
    "\n",
    "print(f\"Tracing URL: {tracing_url}\")"
   ]
  },
  {
   "cell_type": "markdown",
   "id": "8ad9068b",
   "metadata": {},
   "source": [
    "View Traces [here](https://platform.openai.com/traces?group_id=Dummy+Group)"
   ]
  },
  {
   "cell_type": "markdown",
   "id": "d7e2531f",
   "metadata": {},
   "source": [
    "# Add Viz\n",
    "\n",
    "requires GraphViz extension to view"
   ]
  },
  {
   "cell_type": "code",
   "execution_count": 11,
   "id": "31a6857f",
   "metadata": {},
   "outputs": [
    {
     "name": "stdout",
     "output_type": "stream",
     "text": [
      "An error occurred: failed to execute WindowsPath('dot'), make sure the Graphviz executables are on your systems' PATH\n"
     ]
    }
   ],
   "source": [
    "from agents.extensions.visualization import draw_graph\n",
    "\n",
    "try:\n",
    "    draw_graph(agent, filename=\"viz/05_agent_tracing.gv\")\n",
    "except Exception as e:\n",
    "    print(f\"An error occurred: {e}\")"
   ]
  }
 ],
 "metadata": {
  "kernelspec": {
   "display_name": "ai_env",
   "language": "python",
   "name": "python3"
  },
  "language_info": {
   "codemirror_mode": {
    "name": "ipython",
    "version": 3
   },
   "file_extension": ".py",
   "mimetype": "text/x-python",
   "name": "python",
   "nbconvert_exporter": "python",
   "pygments_lexer": "ipython3",
   "version": "3.10.16"
  }
 },
 "nbformat": 4,
 "nbformat_minor": 5
}
