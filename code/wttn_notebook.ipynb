{
 "cells": [
  {
   "cell_type": "code",
   "execution_count": 1,
   "id": "857b4414",
   "metadata": {},
   "outputs": [],
   "source": [
    "from dotenv import load_dotenv\n",
    "import json\n",
    "load_dotenv()\n",
    "\n",
    "\n",
    "from helpers.wttn_agent import get_attn_agent, WttnFullReport\n",
    "from helpers.model_client import get_github_model_provider, get_openai_client\n",
    "from helpers.trace_util import get_trace_url\n",
    "from helpers.vis_workflow import vis_agent\n",
    "\n",
    "\n",
    "from agents import(\n",
    "    Runner,\n",
    "    RunConfig,\n",
    "\n",
    "    trace,\n",
    "    ToolCallOutputItem,\n",
    "\n",
    ")\n"
   ]
  },
  {
   "cell_type": "code",
   "execution_count": 2,
   "id": "fa6466cd",
   "metadata": {},
   "outputs": [],
   "source": [
    "agent = get_attn_agent()"
   ]
  },
  {
   "cell_type": "code",
   "execution_count": 3,
   "id": "36c15bb0",
   "metadata": {},
   "outputs": [
    {
     "name": "stdout",
     "output_type": "stream",
     "text": [
      "An error occurred: failed to execute WindowsPath('dot'), make sure the Graphviz executables are on your systems' PATH\n"
     ]
    },
    {
     "data": {
      "text/plain": [
       "'viz/Weather_Workflow.gv'"
      ]
     },
     "execution_count": 3,
     "metadata": {},
     "output_type": "execute_result"
    }
   ],
   "source": [
    "vis_agent(agent, \"Weather_Workflow\")"
   ]
  },
  {
   "cell_type": "code",
   "execution_count": 4,
   "id": "1021a3c1",
   "metadata": {},
   "outputs": [
    {
     "data": {
      "text/plain": [
       "[FunctionTool(name='weather_data_collector', description='you collect data about weather from different data sources for a given city or location', params_json_schema={'properties': {'input': {'title': 'Input', 'type': 'string'}}, 'required': ['input'], 'title': 'weather_data_collector_args', 'type': 'object', 'additionalProperties': False}, on_invoke_tool=<function function_tool.<locals>._create_function_tool.<locals>._on_invoke_tool at 0x0000024AD8862200>, strict_json_schema=True)]"
      ]
     },
     "execution_count": 4,
     "metadata": {},
     "output_type": "execute_result"
    }
   ],
   "source": [
    "agent.tools"
   ]
  },
  {
   "cell_type": "code",
   "execution_count": null,
   "id": "4ee12548",
   "metadata": {},
   "outputs": [],
   "source": []
  },
  {
   "cell_type": "code",
   "execution_count": 5,
   "id": "20b3bafe",
   "metadata": {},
   "outputs": [
    {
     "data": {
      "text/plain": [
       "[Agent(name='whether_report_summariser_agent', instructions='\\n        you can read a detailed structured weather report, and then write a weather report summary for the user.\\n        the summary can be ready by a human and should be easy to understand.\\n        the report should include information about the weather conditions now,\\n        summary of changes in the weather over the next three days,\\n        with special attention to any extreme changes during the day or over the next few days\\n        ', handoff_description='You are writing a weather report summary for the user from structured and detailed weather report data', handoffs=[], model='o3-mini', model_settings=ModelSettings(temperature=None, top_p=None, frequency_penalty=None, presence_penalty=None, tool_choice=None, parallel_tool_calls=None, truncation=None, max_tokens=16000, reasoning=None, metadata=None, store=None), tools=[], mcp_servers=[], mcp_config={}, input_guardrails=[], output_guardrails=[], output_type=<class 'str'>, hooks=None, tool_use_behavior='run_llm_again', reset_tool_choice=True)]"
      ]
     },
     "execution_count": 5,
     "metadata": {},
     "output_type": "execute_result"
    }
   ],
   "source": [
    "agent.handoffs"
   ]
  },
  {
   "cell_type": "code",
   "execution_count": 6,
   "id": "b37e71ab",
   "metadata": {},
   "outputs": [
    {
     "name": "stdout",
     "output_type": "stream",
     "text": [
      "https://platform.openai.com/traces/trace?trace_id=trace_bbb0b7552dc0474296a6d00e79d2cd71\n",
      "[debug] get_wttn called with city: Perth\n",
      "Here's a summary of the weather in Perth:\n",
      "\n",
      "**Today (Wednesday):** The day is currently sunny with a temperature of 16°C and light winds from the west at 11 km/h. Moving forward, the weather remains sunny throughout the day, with the temperature peaking at 25°C by noon, before cooling slightly to 22°C in the evening. Wind speeds will increase to 22-32 km/h in the evening. Late at night, expect partly cloudy skies with winds at 19-31 km/h.\n",
      "\n",
      "**Thursday:** Another sunny day with clear skies expected. Temperatures will start at 20°C in the morning and rise to a high of 25°C by noon. However, stronger winds are forecasted in the evening, reaching speeds of 37-50 km/h, with cooler temperatures around 21°C. Clear night skies with winds of 31-41 km/h are anticipated.\n",
      "\n",
      "**Friday:** The day begins sunny at 17°C and reaches 21°C by noon, with moderate to strong breezes throughout the day (winds at 21-31 km/h). Clear skies persist into the evening and night, cooling to 16°C by nighttime.\n",
      "\n",
      "**Key Highlights:** The weather remains dry and sunny throughout, with no rain expected for the next three days. Be prepared for an increase in wind intensity on Thursday evening.\n"
     ]
    }
   ],
   "source": [
    "city = input(\"Enter the city name: \") or \"Sydney\"\n",
    "\n",
    "with trace(workflow_name=\"wttn_agent\", group_id=\"wttn_agent\") as tr:\n",
    "    print(get_trace_url(tr))\n",
    "    result = await Runner.run(\n",
    "        starting_agent=agent,\n",
    "        input=f\"what is the weather today in {city}\",\n",
    "        run_config=RunConfig(\n",
    "            model_provider=get_github_model_provider(get_openai_client()),\n",
    "        )\n",
    "    )\n",
    "\n",
    "    print(result.final_output)\n"
   ]
  },
  {
   "cell_type": "code",
   "execution_count": 9,
   "id": "076733cd",
   "metadata": {},
   "outputs": [
    {
     "data": {
      "text/plain": [
       "Usage(requests=1, input_tokens=2466, output_tokens=274, total_tokens=2740)"
      ]
     },
     "execution_count": 9,
     "metadata": {},
     "output_type": "execute_result"
    }
   ],
   "source": [
    "result.raw_responses[-1].usage"
   ]
  },
  {
   "cell_type": "code",
   "execution_count": 11,
   "id": "b82f9cbc",
   "metadata": {},
   "outputs": [
    {
     "data": {
      "text/markdown": [
       "Here's a summary of the weather in Perth:\n",
       "\n",
       "**Today (Wednesday):** The day is currently sunny with a temperature of 16°C and light winds from the west at 11 km/h. Moving forward, the weather remains sunny throughout the day, with the temperature peaking at 25°C by noon, before cooling slightly to 22°C in the evening. Wind speeds will increase to 22-32 km/h in the evening. Late at night, expect partly cloudy skies with winds at 19-31 km/h.\n",
       "\n",
       "**Thursday:** Another sunny day with clear skies expected. Temperatures will start at 20°C in the morning and rise to a high of 25°C by noon. However, stronger winds are forecasted in the evening, reaching speeds of 37-50 km/h, with cooler temperatures around 21°C. Clear night skies with winds of 31-41 km/h are anticipated.\n",
       "\n",
       "**Friday:** The day begins sunny at 17°C and reaches 21°C by noon, with moderate to strong breezes throughout the day (winds at 21-31 km/h). Clear skies persist into the evening and night, cooling to 16°C by nighttime.\n",
       "\n",
       "**Key Highlights:** The weather remains dry and sunny throughout, with no rain expected for the next three days. Be prepared for an increase in wind intensity on Thursday evening."
      ],
      "text/plain": [
       "<IPython.core.display.Markdown object>"
      ]
     },
     "metadata": {},
     "output_type": "display_data"
    }
   ],
   "source": [
    "from IPython.display import display, HTML, Markdown\n",
    "display(Markdown(result.final_output))\n"
   ]
  },
  {
   "cell_type": "code",
   "execution_count": null,
   "id": "6c3ee26a",
   "metadata": {},
   "outputs": [],
   "source": [
    "for r in result.raw_responses:\n",
    "    print(f\"Usage: {r.usage.total_tokens}, Output: {r.output}\")\n",
    "\n"
   ]
  },
  {
   "cell_type": "code",
   "execution_count": null,
   "id": "f959d202",
   "metadata": {},
   "outputs": [],
   "source": [
    "tool_call_output = None\n",
    "for item in result.new_items:\n",
    "    print(item)\n",
    "    if isinstance(item, ToolCallOutputItem):\n",
    "        tool_call_output = item\n",
    "        # print(item.output)\n",
    "        # print((json.loads(item.output)))\n",
    "        item_output : WttnFullReport = item.output\n",
    "        print(item_output)\n"
   ]
  },
  {
   "cell_type": "code",
   "execution_count": null,
   "id": "8eaae359",
   "metadata": {},
   "outputs": [],
   "source": [
    "api_output = json.loads(tool_call_output.raw_item[\"output\"])"
   ]
  },
  {
   "cell_type": "code",
   "execution_count": null,
   "id": "55a8282b",
   "metadata": {},
   "outputs": [],
   "source": [
    "print(api_output['weather_wttn_raw_response'])"
   ]
  },
  {
   "cell_type": "code",
   "execution_count": null,
   "id": "c251210c",
   "metadata": {},
   "outputs": [],
   "source": []
  },
  {
   "cell_type": "code",
   "execution_count": null,
   "id": "362f6d23",
   "metadata": {},
   "outputs": [],
   "source": []
  }
 ],
 "metadata": {
  "kernelspec": {
   "display_name": "ai_env",
   "language": "python",
   "name": "python3"
  },
  "language_info": {
   "codemirror_mode": {
    "name": "ipython",
    "version": 3
   },
   "file_extension": ".py",
   "mimetype": "text/x-python",
   "name": "python",
   "nbconvert_exporter": "python",
   "pygments_lexer": "ipython3",
   "version": "3.10.16"
  }
 },
 "nbformat": 4,
 "nbformat_minor": 5
}
